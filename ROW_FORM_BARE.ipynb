{
  "nbformat": 4,
  "nbformat_minor": 0,
  "metadata": {
    "colab": {
      "name": "Untitled6.ipynb",
      "provenance": [],
      "include_colab_link": true
    },
    "kernelspec": {
      "name": "python3",
      "display_name": "Python 3"
    },
    "language_info": {
      "name": "python"
    }
  },
  "cells": [
    {
      "cell_type": "markdown",
      "metadata": {
        "id": "view-in-github",
        "colab_type": "text"
      },
      "source": [
        "<a href=\"https://colab.research.google.com/github/kdemertzis/deploy/blob/main/ROW_FORM_BARE.ipynb\" target=\"_parent\"><img src=\"https://colab.research.google.com/assets/colab-badge.svg\" alt=\"Open In Colab\"/></a>"
      ]
    },
    {
      "cell_type": "code",
      "metadata": {
        "id": "dX8DBLV6ucpH"
      },
      "source": [
        "#!pip install pycaret\n",
        "#!pip install pyyaml==5.4.1\n",
        "#!pip install explainerdashboard"
      ],
      "execution_count": 1,
      "outputs": []
    },
    {
      "cell_type": "code",
      "metadata": {
        "id": "NgfzuE-effQb",
        "outputId": "324efc12-7399-457d-e285-401560c7b8bb",
        "colab": {
          "base_uri": "https://localhost:8080/",
          "height": 52
        }
      },
      "source": [
        "\"\"\"\n",
        "    Import library\n",
        "\"\"\"\n",
        "##-- PyCaret\n",
        "import pycaret\n",
        "from pycaret.classification import *\n",
        "##-- Pandas\n",
        "import pandas as pd\n",
        "from pandas import Series, DataFrame\n",
        "##-- explainerdashboard\n",
        "import explainerdashboard"
      ],
      "execution_count": 2,
      "outputs": [
        {
          "output_type": "stream",
          "name": "stderr",
          "text": [
            "/usr/local/lib/python3.7/dist-packages/distributed/config.py:20: YAMLLoadWarning: calling yaml.load() without Loader=... is deprecated, as the default Loader is unsafe. Please read https://msg.pyyaml.org/load for full details.\n",
            "  defaults = yaml.load(f)\n"
          ]
        }
      ]
    },
    {
      "cell_type": "code",
      "metadata": {
        "id": "YEtj-P7Joc3_"
      },
      "source": [
        "url = 'https://raw.githubusercontent.com/kdemertzis/Earthquakes/main/Data/Gradio/1_3class.csv'\n",
        "# load the dataset\n",
        "df = pd.read_csv(url)"
      ],
      "execution_count": 3,
      "outputs": []
    },
    {
      "cell_type": "code",
      "metadata": {
        "id": "Gq52SyDjOosY"
      },
      "source": [
        "# setup the dataset\n",
        "grid = setup(data=df, target=df.columns[-1], html=False, silent=True, verbose=False)"
      ],
      "execution_count": 4,
      "outputs": []
    },
    {
      "cell_type": "code",
      "source": [
        "rf = create_model('rf')"
      ],
      "metadata": {
        "colab": {
          "base_uri": "https://localhost:8080/",
          "height": 426
        },
        "id": "LZWWc64-Sf9v",
        "outputId": "109cedbb-1545-4d0a-ed73-82a10be4f0e1"
      },
      "execution_count": 5,
      "outputs": [
        {
          "output_type": "display_data",
          "data": {
            "text/html": [
              "\n",
              "  <div id=\"df-b3b9ce8f-49b5-404c-aac6-a60145d7c789\">\n",
              "    <div class=\"colab-df-container\">\n",
              "      <div>\n",
              "<style scoped>\n",
              "    .dataframe tbody tr th:only-of-type {\n",
              "        vertical-align: middle;\n",
              "    }\n",
              "\n",
              "    .dataframe tbody tr th {\n",
              "        vertical-align: top;\n",
              "    }\n",
              "\n",
              "    .dataframe thead th {\n",
              "        text-align: right;\n",
              "    }\n",
              "</style>\n",
              "<table border=\"1\" class=\"dataframe\">\n",
              "  <thead>\n",
              "    <tr style=\"text-align: right;\">\n",
              "      <th></th>\n",
              "      <th>Accuracy</th>\n",
              "      <th>AUC</th>\n",
              "      <th>Recall</th>\n",
              "      <th>Prec.</th>\n",
              "      <th>F1</th>\n",
              "      <th>Kappa</th>\n",
              "      <th>MCC</th>\n",
              "    </tr>\n",
              "  </thead>\n",
              "  <tbody>\n",
              "    <tr>\n",
              "      <th>0</th>\n",
              "      <td>0.8832</td>\n",
              "      <td>0.9687</td>\n",
              "      <td>0.8557</td>\n",
              "      <td>0.8794</td>\n",
              "      <td>0.8803</td>\n",
              "      <td>0.8145</td>\n",
              "      <td>0.8153</td>\n",
              "    </tr>\n",
              "    <tr>\n",
              "      <th>1</th>\n",
              "      <td>0.8905</td>\n",
              "      <td>0.9635</td>\n",
              "      <td>0.8721</td>\n",
              "      <td>0.8893</td>\n",
              "      <td>0.8898</td>\n",
              "      <td>0.8272</td>\n",
              "      <td>0.8273</td>\n",
              "    </tr>\n",
              "    <tr>\n",
              "      <th>2</th>\n",
              "      <td>0.8686</td>\n",
              "      <td>0.9711</td>\n",
              "      <td>0.8341</td>\n",
              "      <td>0.8640</td>\n",
              "      <td>0.8630</td>\n",
              "      <td>0.7885</td>\n",
              "      <td>0.7913</td>\n",
              "    </tr>\n",
              "    <tr>\n",
              "      <th>3</th>\n",
              "      <td>0.8978</td>\n",
              "      <td>0.9755</td>\n",
              "      <td>0.8730</td>\n",
              "      <td>0.8982</td>\n",
              "      <td>0.8974</td>\n",
              "      <td>0.8371</td>\n",
              "      <td>0.8378</td>\n",
              "    </tr>\n",
              "    <tr>\n",
              "      <th>4</th>\n",
              "      <td>0.8971</td>\n",
              "      <td>0.9833</td>\n",
              "      <td>0.8621</td>\n",
              "      <td>0.8946</td>\n",
              "      <td>0.8931</td>\n",
              "      <td>0.8348</td>\n",
              "      <td>0.8369</td>\n",
              "    </tr>\n",
              "    <tr>\n",
              "      <th>5</th>\n",
              "      <td>0.8971</td>\n",
              "      <td>0.9744</td>\n",
              "      <td>0.8770</td>\n",
              "      <td>0.8980</td>\n",
              "      <td>0.8972</td>\n",
              "      <td>0.8357</td>\n",
              "      <td>0.8360</td>\n",
              "    </tr>\n",
              "    <tr>\n",
              "      <th>6</th>\n",
              "      <td>0.8676</td>\n",
              "      <td>0.9772</td>\n",
              "      <td>0.8447</td>\n",
              "      <td>0.8678</td>\n",
              "      <td>0.8677</td>\n",
              "      <td>0.7902</td>\n",
              "      <td>0.7902</td>\n",
              "    </tr>\n",
              "    <tr>\n",
              "      <th>7</th>\n",
              "      <td>0.9338</td>\n",
              "      <td>0.9827</td>\n",
              "      <td>0.9293</td>\n",
              "      <td>0.9410</td>\n",
              "      <td>0.9355</td>\n",
              "      <td>0.8955</td>\n",
              "      <td>0.8971</td>\n",
              "    </tr>\n",
              "    <tr>\n",
              "      <th>8</th>\n",
              "      <td>0.9044</td>\n",
              "      <td>0.9798</td>\n",
              "      <td>0.8798</td>\n",
              "      <td>0.9014</td>\n",
              "      <td>0.9010</td>\n",
              "      <td>0.8468</td>\n",
              "      <td>0.8482</td>\n",
              "    </tr>\n",
              "    <tr>\n",
              "      <th>9</th>\n",
              "      <td>0.9044</td>\n",
              "      <td>0.9760</td>\n",
              "      <td>0.8886</td>\n",
              "      <td>0.9035</td>\n",
              "      <td>0.9039</td>\n",
              "      <td>0.8476</td>\n",
              "      <td>0.8477</td>\n",
              "    </tr>\n",
              "    <tr>\n",
              "      <th>Mean</th>\n",
              "      <td>0.8945</td>\n",
              "      <td>0.9752</td>\n",
              "      <td>0.8716</td>\n",
              "      <td>0.8937</td>\n",
              "      <td>0.8929</td>\n",
              "      <td>0.8318</td>\n",
              "      <td>0.8328</td>\n",
              "    </tr>\n",
              "    <tr>\n",
              "      <th>SD</th>\n",
              "      <td>0.0182</td>\n",
              "      <td>0.0059</td>\n",
              "      <td>0.0249</td>\n",
              "      <td>0.0205</td>\n",
              "      <td>0.0193</td>\n",
              "      <td>0.0292</td>\n",
              "      <td>0.0292</td>\n",
              "    </tr>\n",
              "  </tbody>\n",
              "</table>\n",
              "</div>\n",
              "      <button class=\"colab-df-convert\" onclick=\"convertToInteractive('df-b3b9ce8f-49b5-404c-aac6-a60145d7c789')\"\n",
              "              title=\"Convert this dataframe to an interactive table.\"\n",
              "              style=\"display:none;\">\n",
              "        \n",
              "  <svg xmlns=\"http://www.w3.org/2000/svg\" height=\"24px\"viewBox=\"0 0 24 24\"\n",
              "       width=\"24px\">\n",
              "    <path d=\"M0 0h24v24H0V0z\" fill=\"none\"/>\n",
              "    <path d=\"M18.56 5.44l.94 2.06.94-2.06 2.06-.94-2.06-.94-.94-2.06-.94 2.06-2.06.94zm-11 1L8.5 8.5l.94-2.06 2.06-.94-2.06-.94L8.5 2.5l-.94 2.06-2.06.94zm10 10l.94 2.06.94-2.06 2.06-.94-2.06-.94-.94-2.06-.94 2.06-2.06.94z\"/><path d=\"M17.41 7.96l-1.37-1.37c-.4-.4-.92-.59-1.43-.59-.52 0-1.04.2-1.43.59L10.3 9.45l-7.72 7.72c-.78.78-.78 2.05 0 2.83L4 21.41c.39.39.9.59 1.41.59.51 0 1.02-.2 1.41-.59l7.78-7.78 2.81-2.81c.8-.78.8-2.07 0-2.86zM5.41 20L4 18.59l7.72-7.72 1.47 1.35L5.41 20z\"/>\n",
              "  </svg>\n",
              "      </button>\n",
              "      \n",
              "  <style>\n",
              "    .colab-df-container {\n",
              "      display:flex;\n",
              "      flex-wrap:wrap;\n",
              "      gap: 12px;\n",
              "    }\n",
              "\n",
              "    .colab-df-convert {\n",
              "      background-color: #E8F0FE;\n",
              "      border: none;\n",
              "      border-radius: 50%;\n",
              "      cursor: pointer;\n",
              "      display: none;\n",
              "      fill: #1967D2;\n",
              "      height: 32px;\n",
              "      padding: 0 0 0 0;\n",
              "      width: 32px;\n",
              "    }\n",
              "\n",
              "    .colab-df-convert:hover {\n",
              "      background-color: #E2EBFA;\n",
              "      box-shadow: 0px 1px 2px rgba(60, 64, 67, 0.3), 0px 1px 3px 1px rgba(60, 64, 67, 0.15);\n",
              "      fill: #174EA6;\n",
              "    }\n",
              "\n",
              "    [theme=dark] .colab-df-convert {\n",
              "      background-color: #3B4455;\n",
              "      fill: #D2E3FC;\n",
              "    }\n",
              "\n",
              "    [theme=dark] .colab-df-convert:hover {\n",
              "      background-color: #434B5C;\n",
              "      box-shadow: 0px 1px 3px 1px rgba(0, 0, 0, 0.15);\n",
              "      filter: drop-shadow(0px 1px 2px rgba(0, 0, 0, 0.3));\n",
              "      fill: #FFFFFF;\n",
              "    }\n",
              "  </style>\n",
              "\n",
              "      <script>\n",
              "        const buttonEl =\n",
              "          document.querySelector('#df-b3b9ce8f-49b5-404c-aac6-a60145d7c789 button.colab-df-convert');\n",
              "        buttonEl.style.display =\n",
              "          google.colab.kernel.accessAllowed ? 'block' : 'none';\n",
              "\n",
              "        async function convertToInteractive(key) {\n",
              "          const element = document.querySelector('#df-b3b9ce8f-49b5-404c-aac6-a60145d7c789');\n",
              "          const dataTable =\n",
              "            await google.colab.kernel.invokeFunction('convertToInteractive',\n",
              "                                                     [key], {});\n",
              "          if (!dataTable) return;\n",
              "\n",
              "          const docLinkHtml = 'Like what you see? Visit the ' +\n",
              "            '<a target=\"_blank\" href=https://colab.research.google.com/notebooks/data_table.ipynb>data table notebook</a>'\n",
              "            + ' to learn more about interactive tables.';\n",
              "          element.innerHTML = '';\n",
              "          dataTable['output_type'] = 'display_data';\n",
              "          await google.colab.output.renderOutput(dataTable, element);\n",
              "          const docLink = document.createElement('div');\n",
              "          docLink.innerHTML = docLinkHtml;\n",
              "          element.appendChild(docLink);\n",
              "        }\n",
              "      </script>\n",
              "    </div>\n",
              "  </div>\n",
              "  "
            ],
            "text/plain": [
              "      Accuracy     AUC  Recall   Prec.      F1   Kappa     MCC\n",
              "0       0.8832  0.9687  0.8557  0.8794  0.8803  0.8145  0.8153\n",
              "1       0.8905  0.9635  0.8721  0.8893  0.8898  0.8272  0.8273\n",
              "2       0.8686  0.9711  0.8341  0.8640  0.8630  0.7885  0.7913\n",
              "3       0.8978  0.9755  0.8730  0.8982  0.8974  0.8371  0.8378\n",
              "4       0.8971  0.9833  0.8621  0.8946  0.8931  0.8348  0.8369\n",
              "5       0.8971  0.9744  0.8770  0.8980  0.8972  0.8357  0.8360\n",
              "6       0.8676  0.9772  0.8447  0.8678  0.8677  0.7902  0.7902\n",
              "7       0.9338  0.9827  0.9293  0.9410  0.9355  0.8955  0.8971\n",
              "8       0.9044  0.9798  0.8798  0.9014  0.9010  0.8468  0.8482\n",
              "9       0.9044  0.9760  0.8886  0.9035  0.9039  0.8476  0.8477\n",
              "Mean    0.8945  0.9752  0.8716  0.8937  0.8929  0.8318  0.8328\n",
              "SD      0.0182  0.0059  0.0249  0.0205  0.0193  0.0292  0.0292"
            ]
          },
          "metadata": {}
        }
      ]
    },
    {
      "cell_type": "code",
      "source": [
        "dashboard(rf)"
      ],
      "metadata": {
        "colab": {
          "base_uri": "https://localhost:8080/",
          "height": 503
        },
        "id": "CMEDgvwRKW9l",
        "outputId": "b7581cf9-f046-46b9-c8de-edd8630b35cf"
      },
      "execution_count": 6,
      "outputs": [
        {
          "output_type": "stream",
          "name": "stdout",
          "text": [
            "Detected RandomForestClassifier model: Changing class type to RandomForestClassifierExplainer...\n",
            "Note: model_output=='probability', so assuming that raw shap output of RandomForestClassifier is in probability space...\n",
            "Generating self.shap_explainer = shap.TreeExplainer(model)\n",
            "Building ExplainerDashboard..\n",
            "Detected google colab environment, setting mode='external'\n",
            "Warning: calculating shap interaction values can be slow! Pass shap_interaction=False to remove interactions tab.\n",
            "Generating layout...\n",
            "Calculating shap values...\n",
            "Calculating prediction probabilities...\n",
            "Calculating metrics...\n",
            "Calculating confusion matrices...\n",
            "Calculating classification_dfs...\n",
            "Calculating roc auc curves...\n",
            "Calculating pr auc curves...\n",
            "Calculating liftcurve_dfs...\n",
            "Calculating shap interaction values... (this may take a while)\n",
            "Reminder: TreeShap computational complexity is O(TLD^2), where T is the number of trees, L is the maximum number of leaves in any tree and D the maximal depth of any tree. So reducing these will speed up the calculation.\n",
            "Calculating dependencies...\n",
            "Calculating permutation importances (if slow, try setting n_jobs parameter)...\n",
            "Calculating pred_percentiles...\n",
            "Calculating predictions...\n",
            "Calculating ShadowDecTree for each individual decision tree...\n",
            "Reminder: you can store the explainer (including calculated dependencies) with explainer.dump('explainer.joblib') and reload with e.g. ClassifierExplainer.from_file('explainer.joblib')\n",
            "Registering callbacks...\n",
            "Starting ExplainerDashboard on http://172.28.0.2:8050\n",
            "You can terminate the dashboard with ExplainerDashboard.terminate(8050)\n",
            "Dash app running on:\n"
          ]
        },
        {
          "output_type": "display_data",
          "data": {
            "application/javascript": [
              "(async (port, path, text, element) => {\n",
              "    if (!google.colab.kernel.accessAllowed) {\n",
              "      return;\n",
              "    }\n",
              "    element.appendChild(document.createTextNode(''));\n",
              "    const url = await google.colab.kernel.proxyPort(port);\n",
              "    const anchor = document.createElement('a');\n",
              "    anchor.href = new URL(path, url).toString();\n",
              "    anchor.target = '_blank';\n",
              "    anchor.setAttribute('data-href', url + path);\n",
              "    anchor.textContent = text;\n",
              "    element.appendChild(anchor);\n",
              "  })(8050, \"/\", \"http://127.0.0.1:8050/\", window.element)"
            ],
            "text/plain": [
              "<IPython.core.display.Javascript object>"
            ]
          },
          "metadata": {}
        }
      ]
    }
  ]
}