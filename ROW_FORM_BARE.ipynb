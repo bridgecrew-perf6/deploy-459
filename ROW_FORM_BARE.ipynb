{
  "nbformat": 4,
  "nbformat_minor": 0,
  "metadata": {
    "colab": {
      "name": "Untitled6.ipynb",
      "provenance": [],
      "include_colab_link": true
    },
    "kernelspec": {
      "name": "python3",
      "display_name": "Python 3"
    },
    "language_info": {
      "name": "python"
    }
  },
  "cells": [
    {
      "cell_type": "markdown",
      "metadata": {
        "id": "view-in-github",
        "colab_type": "text"
      },
      "source": [
        "<a href=\"https://colab.research.google.com/github/kdemertzis/deploy/blob/main/ROW_FORM_BARE.ipynb\" target=\"_parent\"><img src=\"https://colab.research.google.com/assets/colab-badge.svg\" alt=\"Open In Colab\"/></a>"
      ]
    },
    {
      "cell_type": "code",
      "metadata": {
        "id": "dX8DBLV6ucpH"
      },
      "source": [
        "#!pip install pycaret\n",
        "#!pip install pyyaml==5.4.1\n",
        "#!pip install explainerdashboard\n",
        "#!pip install gradio\n",
        "#!pip install autoviz"
      ],
      "execution_count": 1,
      "outputs": []
    },
    {
      "cell_type": "code",
      "metadata": {
        "id": "NgfzuE-effQb",
        "outputId": "50cf7487-79ad-42d4-e1f9-0d424389ec23",
        "colab": {
          "base_uri": "https://localhost:8080/"
        }
      },
      "source": [
        "\"\"\"\n",
        "    Import library\n",
        "\"\"\"\n",
        "##-- PyCaret\n",
        "import pycaret\n",
        "from pycaret.classification import *\n",
        "##-- Pandas\n",
        "import pandas as pd\n",
        "from pandas import Series, DataFrame\n",
        "import gradio"
      ],
      "execution_count": 2,
      "outputs": [
        {
          "output_type": "stream",
          "name": "stderr",
          "text": [
            "/usr/local/lib/python3.7/dist-packages/distributed/config.py:20: YAMLLoadWarning: calling yaml.load() without Loader=... is deprecated, as the default Loader is unsafe. Please read https://msg.pyyaml.org/load for full details.\n",
            "  defaults = yaml.load(f)\n"
          ]
        }
      ]
    },
    {
      "cell_type": "code",
      "metadata": {
        "id": "YEtj-P7Joc3_"
      },
      "source": [
        "url = 'https://raw.githubusercontent.com/kdemertzis/Earthquakes/main/Data/Gradio/1_3class.csv'\n",
        "# load the dataset\n",
        "df = pd.read_csv(url)"
      ],
      "execution_count": 3,
      "outputs": []
    },
    {
      "cell_type": "code",
      "metadata": {
        "id": "Gq52SyDjOosY"
      },
      "source": [
        "# setup the dataset\n",
        "grid = setup(data=df, target=df.columns[-1], html=False, silent=True, verbose=False)"
      ],
      "execution_count": 4,
      "outputs": []
    },
    {
      "cell_type": "code",
      "source": [
        "lightgbm = create_model('lightgbm')"
      ],
      "metadata": {
        "colab": {
          "base_uri": "https://localhost:8080/",
          "height": 426
        },
        "id": "LZWWc64-Sf9v",
        "outputId": "acbd3e05-3938-4294-d09f-19fb4d3d1aad"
      },
      "execution_count": 5,
      "outputs": [
        {
          "output_type": "display_data",
          "data": {
            "text/html": [
              "\n",
              "  <div id=\"df-446c83ae-5a85-41a6-9dd2-f15a7c33c712\">\n",
              "    <div class=\"colab-df-container\">\n",
              "      <div>\n",
              "<style scoped>\n",
              "    .dataframe tbody tr th:only-of-type {\n",
              "        vertical-align: middle;\n",
              "    }\n",
              "\n",
              "    .dataframe tbody tr th {\n",
              "        vertical-align: top;\n",
              "    }\n",
              "\n",
              "    .dataframe thead th {\n",
              "        text-align: right;\n",
              "    }\n",
              "</style>\n",
              "<table border=\"1\" class=\"dataframe\">\n",
              "  <thead>\n",
              "    <tr style=\"text-align: right;\">\n",
              "      <th></th>\n",
              "      <th>Accuracy</th>\n",
              "      <th>AUC</th>\n",
              "      <th>Recall</th>\n",
              "      <th>Prec.</th>\n",
              "      <th>F1</th>\n",
              "      <th>Kappa</th>\n",
              "      <th>MCC</th>\n",
              "    </tr>\n",
              "  </thead>\n",
              "  <tbody>\n",
              "    <tr>\n",
              "      <th>0</th>\n",
              "      <td>0.9270</td>\n",
              "      <td>0.9878</td>\n",
              "      <td>0.9144</td>\n",
              "      <td>0.9270</td>\n",
              "      <td>0.9270</td>\n",
              "      <td>0.8844</td>\n",
              "      <td>0.8844</td>\n",
              "    </tr>\n",
              "    <tr>\n",
              "      <th>1</th>\n",
              "      <td>0.8759</td>\n",
              "      <td>0.9658</td>\n",
              "      <td>0.8524</td>\n",
              "      <td>0.8746</td>\n",
              "      <td>0.8752</td>\n",
              "      <td>0.8041</td>\n",
              "      <td>0.8041</td>\n",
              "    </tr>\n",
              "    <tr>\n",
              "      <th>2</th>\n",
              "      <td>0.8905</td>\n",
              "      <td>0.9821</td>\n",
              "      <td>0.8659</td>\n",
              "      <td>0.8886</td>\n",
              "      <td>0.8887</td>\n",
              "      <td>0.8258</td>\n",
              "      <td>0.8268</td>\n",
              "    </tr>\n",
              "    <tr>\n",
              "      <th>3</th>\n",
              "      <td>0.8832</td>\n",
              "      <td>0.9774</td>\n",
              "      <td>0.8554</td>\n",
              "      <td>0.8799</td>\n",
              "      <td>0.8804</td>\n",
              "      <td>0.8140</td>\n",
              "      <td>0.8152</td>\n",
              "    </tr>\n",
              "    <tr>\n",
              "      <th>4</th>\n",
              "      <td>0.8971</td>\n",
              "      <td>0.9708</td>\n",
              "      <td>0.8712</td>\n",
              "      <td>0.8941</td>\n",
              "      <td>0.8945</td>\n",
              "      <td>0.8358</td>\n",
              "      <td>0.8368</td>\n",
              "    </tr>\n",
              "    <tr>\n",
              "      <th>5</th>\n",
              "      <td>0.9265</td>\n",
              "      <td>0.9794</td>\n",
              "      <td>0.9262</td>\n",
              "      <td>0.9289</td>\n",
              "      <td>0.9269</td>\n",
              "      <td>0.8850</td>\n",
              "      <td>0.8860</td>\n",
              "    </tr>\n",
              "    <tr>\n",
              "      <th>6</th>\n",
              "      <td>0.8971</td>\n",
              "      <td>0.9881</td>\n",
              "      <td>0.8728</td>\n",
              "      <td>0.8975</td>\n",
              "      <td>0.8966</td>\n",
              "      <td>0.8364</td>\n",
              "      <td>0.8370</td>\n",
              "    </tr>\n",
              "    <tr>\n",
              "      <th>7</th>\n",
              "      <td>0.8824</td>\n",
              "      <td>0.9784</td>\n",
              "      <td>0.8537</td>\n",
              "      <td>0.8850</td>\n",
              "      <td>0.8819</td>\n",
              "      <td>0.8122</td>\n",
              "      <td>0.8140</td>\n",
              "    </tr>\n",
              "    <tr>\n",
              "      <th>8</th>\n",
              "      <td>0.8603</td>\n",
              "      <td>0.9696</td>\n",
              "      <td>0.8423</td>\n",
              "      <td>0.8660</td>\n",
              "      <td>0.8618</td>\n",
              "      <td>0.7818</td>\n",
              "      <td>0.7833</td>\n",
              "    </tr>\n",
              "    <tr>\n",
              "      <th>9</th>\n",
              "      <td>0.8676</td>\n",
              "      <td>0.9651</td>\n",
              "      <td>0.8354</td>\n",
              "      <td>0.8654</td>\n",
              "      <td>0.8658</td>\n",
              "      <td>0.7888</td>\n",
              "      <td>0.7897</td>\n",
              "    </tr>\n",
              "    <tr>\n",
              "      <th>Mean</th>\n",
              "      <td>0.8908</td>\n",
              "      <td>0.9765</td>\n",
              "      <td>0.8690</td>\n",
              "      <td>0.8907</td>\n",
              "      <td>0.8899</td>\n",
              "      <td>0.8268</td>\n",
              "      <td>0.8277</td>\n",
              "    </tr>\n",
              "    <tr>\n",
              "      <th>SD</th>\n",
              "      <td>0.0212</td>\n",
              "      <td>0.0079</td>\n",
              "      <td>0.0281</td>\n",
              "      <td>0.0212</td>\n",
              "      <td>0.0213</td>\n",
              "      <td>0.0335</td>\n",
              "      <td>0.0333</td>\n",
              "    </tr>\n",
              "  </tbody>\n",
              "</table>\n",
              "</div>\n",
              "      <button class=\"colab-df-convert\" onclick=\"convertToInteractive('df-446c83ae-5a85-41a6-9dd2-f15a7c33c712')\"\n",
              "              title=\"Convert this dataframe to an interactive table.\"\n",
              "              style=\"display:none;\">\n",
              "        \n",
              "  <svg xmlns=\"http://www.w3.org/2000/svg\" height=\"24px\"viewBox=\"0 0 24 24\"\n",
              "       width=\"24px\">\n",
              "    <path d=\"M0 0h24v24H0V0z\" fill=\"none\"/>\n",
              "    <path d=\"M18.56 5.44l.94 2.06.94-2.06 2.06-.94-2.06-.94-.94-2.06-.94 2.06-2.06.94zm-11 1L8.5 8.5l.94-2.06 2.06-.94-2.06-.94L8.5 2.5l-.94 2.06-2.06.94zm10 10l.94 2.06.94-2.06 2.06-.94-2.06-.94-.94-2.06-.94 2.06-2.06.94z\"/><path d=\"M17.41 7.96l-1.37-1.37c-.4-.4-.92-.59-1.43-.59-.52 0-1.04.2-1.43.59L10.3 9.45l-7.72 7.72c-.78.78-.78 2.05 0 2.83L4 21.41c.39.39.9.59 1.41.59.51 0 1.02-.2 1.41-.59l7.78-7.78 2.81-2.81c.8-.78.8-2.07 0-2.86zM5.41 20L4 18.59l7.72-7.72 1.47 1.35L5.41 20z\"/>\n",
              "  </svg>\n",
              "      </button>\n",
              "      \n",
              "  <style>\n",
              "    .colab-df-container {\n",
              "      display:flex;\n",
              "      flex-wrap:wrap;\n",
              "      gap: 12px;\n",
              "    }\n",
              "\n",
              "    .colab-df-convert {\n",
              "      background-color: #E8F0FE;\n",
              "      border: none;\n",
              "      border-radius: 50%;\n",
              "      cursor: pointer;\n",
              "      display: none;\n",
              "      fill: #1967D2;\n",
              "      height: 32px;\n",
              "      padding: 0 0 0 0;\n",
              "      width: 32px;\n",
              "    }\n",
              "\n",
              "    .colab-df-convert:hover {\n",
              "      background-color: #E2EBFA;\n",
              "      box-shadow: 0px 1px 2px rgba(60, 64, 67, 0.3), 0px 1px 3px 1px rgba(60, 64, 67, 0.15);\n",
              "      fill: #174EA6;\n",
              "    }\n",
              "\n",
              "    [theme=dark] .colab-df-convert {\n",
              "      background-color: #3B4455;\n",
              "      fill: #D2E3FC;\n",
              "    }\n",
              "\n",
              "    [theme=dark] .colab-df-convert:hover {\n",
              "      background-color: #434B5C;\n",
              "      box-shadow: 0px 1px 3px 1px rgba(0, 0, 0, 0.15);\n",
              "      filter: drop-shadow(0px 1px 2px rgba(0, 0, 0, 0.3));\n",
              "      fill: #FFFFFF;\n",
              "    }\n",
              "  </style>\n",
              "\n",
              "      <script>\n",
              "        const buttonEl =\n",
              "          document.querySelector('#df-446c83ae-5a85-41a6-9dd2-f15a7c33c712 button.colab-df-convert');\n",
              "        buttonEl.style.display =\n",
              "          google.colab.kernel.accessAllowed ? 'block' : 'none';\n",
              "\n",
              "        async function convertToInteractive(key) {\n",
              "          const element = document.querySelector('#df-446c83ae-5a85-41a6-9dd2-f15a7c33c712');\n",
              "          const dataTable =\n",
              "            await google.colab.kernel.invokeFunction('convertToInteractive',\n",
              "                                                     [key], {});\n",
              "          if (!dataTable) return;\n",
              "\n",
              "          const docLinkHtml = 'Like what you see? Visit the ' +\n",
              "            '<a target=\"_blank\" href=https://colab.research.google.com/notebooks/data_table.ipynb>data table notebook</a>'\n",
              "            + ' to learn more about interactive tables.';\n",
              "          element.innerHTML = '';\n",
              "          dataTable['output_type'] = 'display_data';\n",
              "          await google.colab.output.renderOutput(dataTable, element);\n",
              "          const docLink = document.createElement('div');\n",
              "          docLink.innerHTML = docLinkHtml;\n",
              "          element.appendChild(docLink);\n",
              "        }\n",
              "      </script>\n",
              "    </div>\n",
              "  </div>\n",
              "  "
            ],
            "text/plain": [
              "      Accuracy     AUC  Recall   Prec.      F1   Kappa     MCC\n",
              "0       0.9270  0.9878  0.9144  0.9270  0.9270  0.8844  0.8844\n",
              "1       0.8759  0.9658  0.8524  0.8746  0.8752  0.8041  0.8041\n",
              "2       0.8905  0.9821  0.8659  0.8886  0.8887  0.8258  0.8268\n",
              "3       0.8832  0.9774  0.8554  0.8799  0.8804  0.8140  0.8152\n",
              "4       0.8971  0.9708  0.8712  0.8941  0.8945  0.8358  0.8368\n",
              "5       0.9265  0.9794  0.9262  0.9289  0.9269  0.8850  0.8860\n",
              "6       0.8971  0.9881  0.8728  0.8975  0.8966  0.8364  0.8370\n",
              "7       0.8824  0.9784  0.8537  0.8850  0.8819  0.8122  0.8140\n",
              "8       0.8603  0.9696  0.8423  0.8660  0.8618  0.7818  0.7833\n",
              "9       0.8676  0.9651  0.8354  0.8654  0.8658  0.7888  0.7897\n",
              "Mean    0.8908  0.9765  0.8690  0.8907  0.8899  0.8268  0.8277\n",
              "SD      0.0212  0.0079  0.0281  0.0212  0.0213  0.0335  0.0333"
            ]
          },
          "metadata": {}
        }
      ]
    },
    {
      "cell_type": "code",
      "source": [
        "dashboard(lightgbm)"
      ],
      "metadata": {
        "colab": {
          "base_uri": "https://localhost:8080/",
          "height": 488
        },
        "id": "CMEDgvwRKW9l",
        "outputId": "09f7eb08-ff30-4734-f14b-8d260e04fff1"
      },
      "execution_count": 7,
      "outputs": [
        {
          "output_type": "stream",
          "name": "stdout",
          "text": [
            "Note: model_output=='probability'. For LGBMClassifier shap values normally get calculated against X_background, but paramater X_background=None, so using X instead\n",
            "Generating self.shap_explainer = shap.TreeExplainer(model, X, model_output='probability', feature_perturbation='interventional')...\n",
            "Note: Shap interaction values will not be available. If shap values in probability space are not necessary you can pass model_output='logodds' to get shap values in logodds without the need for a background dataset and also working shap interaction values...\n",
            "Building ExplainerDashboard..\n",
            "Detected google colab environment, setting mode='external'\n",
            "For this type of model and model_output interactions don't work, so setting shap_interaction=False...\n",
            "The explainer object has no decision_trees property. so setting decision_trees=False...\n",
            "Generating layout...\n",
            "Calculating shap values...\n"
          ]
        },
        {
          "output_type": "stream",
          "name": "stderr",
          "text": [
            " 97%|=================== | 1708/1758 [00:33<00:00]       "
          ]
        },
        {
          "output_type": "stream",
          "name": "stdout",
          "text": [
            "Calculating prediction probabilities...\n",
            "Calculating metrics...\n",
            "Calculating confusion matrices...\n",
            "Calculating classification_dfs...\n",
            "Calculating roc auc curves...\n",
            "Calculating pr auc curves...\n",
            "Calculating liftcurve_dfs...\n",
            "Calculating dependencies...\n",
            "Calculating permutation importances (if slow, try setting n_jobs parameter)...\n",
            "Calculating predictions...\n",
            "Calculating pred_percentiles...\n",
            "Reminder: you can store the explainer (including calculated dependencies) with explainer.dump('explainer.joblib') and reload with e.g. ClassifierExplainer.from_file('explainer.joblib')\n",
            "Registering callbacks...\n",
            "Starting ExplainerDashboard on http://172.28.0.2:8050\n",
            "You can terminate the dashboard with ExplainerDashboard.terminate(8050)\n",
            "Dash app running on:\n"
          ]
        },
        {
          "output_type": "display_data",
          "data": {
            "application/javascript": [
              "(async (port, path, text, element) => {\n",
              "    if (!google.colab.kernel.accessAllowed) {\n",
              "      return;\n",
              "    }\n",
              "    element.appendChild(document.createTextNode(''));\n",
              "    const url = await google.colab.kernel.proxyPort(port);\n",
              "    const anchor = document.createElement('a');\n",
              "    anchor.href = new URL(path, url).toString();\n",
              "    anchor.target = '_blank';\n",
              "    anchor.setAttribute('data-href', url + path);\n",
              "    anchor.textContent = text;\n",
              "    element.appendChild(anchor);\n",
              "  })(8050, \"/\", \"http://127.0.0.1:8050/\", window.element)"
            ],
            "text/plain": [
              "<IPython.core.display.Javascript object>"
            ]
          },
          "metadata": {}
        }
      ]
    }
  ]
}